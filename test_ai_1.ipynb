{
 "cells": [
  {
   "cell_type": "code",
   "execution_count": 29,
   "id": "11163a4b",
   "metadata": {},
   "outputs": [],
   "source": [
    "import sqlite3\n",
    "import numpy as np\n",
    "import tensorflow as tf\n",
    "from tensorflow import keras as k\n",
    "import matplotlib.pyplot as plt"
   ]
  },
  {
   "cell_type": "code",
   "execution_count": 4,
   "id": "2214b76c",
   "metadata": {},
   "outputs": [
    {
     "name": "stdout",
     "output_type": "stream",
     "text": [
      "WARNING:tensorflow:From C:\\Users\\Dudnikoff\\AppData\\Local\\Temp\\ipykernel_19344\\3597539986.py:1: is_gpu_available (from tensorflow.python.framework.test_util) is deprecated and will be removed in a future version.\n",
      "Instructions for updating:\n",
      "Use `tf.config.list_physical_devices('GPU')` instead.\n",
      "True\n",
      "True\n"
     ]
    }
   ],
   "source": [
    "print(tf.test.is_gpu_available())\n",
    "print(tf.test.is_built_with_cuda())"
   ]
  },
  {
   "cell_type": "code",
   "execution_count": 5,
   "id": "03beaaaa",
   "metadata": {},
   "outputs": [],
   "source": [
    "conn = sqlite3.connect(\"DATAn.db\")\n",
    "cur = conn.cursor()\n",
    "cur.execute(\"SELECT * FROM Negative\")\n",
    "rows_negative = cur.fetchall()\n",
    "cur.execute(\"SELECT * FROM Positive\")\n",
    "rows_positive = cur.fetchall()\n"
   ]
  },
  {
   "cell_type": "code",
   "execution_count": 6,
   "id": "ba0c3a37",
   "metadata": {},
   "outputs": [],
   "source": []
  },
  {
   "cell_type": "code",
   "execution_count": 7,
   "id": "d7e87605",
   "metadata": {},
   "outputs": [],
   "source": [
    "input_data = []\n",
    "output_data = []\n",
    "\n",
    "for i in range(0, len(rows_positive)):\n",
    "    input_data.append(list(rows_positive[i]))\n",
    "    output_data.append([1, 0])\n",
    "    input_data.append(list(rows_negative[i]))\n",
    "    output_data.append([0, 1])\n",
    "    \n",
    "input_data = np.array(input_data)\n",
    "    \n",
    "output_data = np.array(output_data)"
   ]
  },
  {
   "cell_type": "code",
   "execution_count": 8,
   "id": "bd6721f4",
   "metadata": {},
   "outputs": [
    {
     "name": "stdout",
     "output_type": "stream",
     "text": [
      "139568\n",
      "146699\n"
     ]
    }
   ],
   "source": [
    "print(len(rows_positive))\n",
    "print(len(rows_negative))"
   ]
  },
  {
   "cell_type": "code",
   "execution_count": 9,
   "id": "640b7017",
   "metadata": {},
   "outputs": [],
   "source": [
    "train_x = input_data[:260000]\n",
    "train_y = output_data[:260000]\n",
    "test_x = input_data[261000:]\n",
    "test_y = output_data[261000:]"
   ]
  },
  {
   "cell_type": "code",
   "execution_count": 27,
   "id": "5a53cd6d",
   "metadata": {},
   "outputs": [
    {
     "name": "stdout",
     "output_type": "stream",
     "text": [
      "Epoch 1/100\n",
      "6500/6500 [==============================] - 28s 4ms/step - loss: 0.2500 - accuracy: 0.4990 - val_loss: 0.2500 - val_accuracy: 0.5001\n",
      "Epoch 2/100\n",
      "6500/6500 [==============================] - 38s 6ms/step - loss: 0.2497 - accuracy: 0.5014 - val_loss: 0.2500 - val_accuracy: 0.5002\n",
      "Epoch 3/100\n",
      "6500/6500 [==============================] - 44s 7ms/step - loss: 0.2491 - accuracy: 0.5095 - val_loss: 0.2508 - val_accuracy: 0.4485\n",
      "Epoch 4/100\n",
      "6500/6500 [==============================] - 44s 7ms/step - loss: 0.2473 - accuracy: 0.5360 - val_loss: 0.2540 - val_accuracy: 0.4538\n",
      "Epoch 5/100\n",
      "6500/6500 [==============================] - 34s 5ms/step - loss: 0.2391 - accuracy: 0.5846 - val_loss: 0.2679 - val_accuracy: 0.4582\n",
      "Epoch 6/100\n",
      "6500/6500 [==============================] - 25s 4ms/step - loss: 0.2257 - accuracy: 0.6314 - val_loss: 0.2506 - val_accuracy: 0.5508\n",
      "Epoch 7/100\n",
      "6500/6500 [==============================] - 25s 4ms/step - loss: 0.2085 - accuracy: 0.6850 - val_loss: 0.2253 - val_accuracy: 0.6334\n",
      "Epoch 8/100\n",
      "6500/6500 [==============================] - 25s 4ms/step - loss: 0.1905 - accuracy: 0.7172 - val_loss: 0.2130 - val_accuracy: 0.6538\n",
      "Epoch 9/100\n",
      "6500/6500 [==============================] - 25s 4ms/step - loss: 0.1780 - accuracy: 0.7379 - val_loss: 0.2169 - val_accuracy: 0.6668\n",
      "Epoch 10/100\n",
      "6500/6500 [==============================] - 25s 4ms/step - loss: 0.1687 - accuracy: 0.7551 - val_loss: 0.1824 - val_accuracy: 0.7188\n",
      "Epoch 11/100\n",
      "6500/6500 [==============================] - 25s 4ms/step - loss: 0.1629 - accuracy: 0.7634 - val_loss: 0.1834 - val_accuracy: 0.7134\n",
      "Epoch 12/100\n",
      "6500/6500 [==============================] - 25s 4ms/step - loss: 0.1558 - accuracy: 0.7764 - val_loss: 0.1933 - val_accuracy: 0.7157\n",
      "Epoch 13/100\n",
      "6500/6500 [==============================] - 25s 4ms/step - loss: 0.1470 - accuracy: 0.7911 - val_loss: 0.1463 - val_accuracy: 0.7887\n",
      "Epoch 14/100\n",
      "6500/6500 [==============================] - 25s 4ms/step - loss: 0.1394 - accuracy: 0.8025 - val_loss: 0.1631 - val_accuracy: 0.7553\n",
      "Epoch 15/100\n",
      "6500/6500 [==============================] - 27s 4ms/step - loss: 0.1326 - accuracy: 0.8115 - val_loss: 0.1333 - val_accuracy: 0.8077\n",
      "Epoch 16/100\n",
      "6500/6500 [==============================] - 28s 4ms/step - loss: 0.1252 - accuracy: 0.8233 - val_loss: 0.1559 - val_accuracy: 0.7319\n",
      "Epoch 17/100\n",
      "6500/6500 [==============================] - 28s 4ms/step - loss: 0.1182 - accuracy: 0.8332 - val_loss: 0.1497 - val_accuracy: 0.7629\n",
      "Epoch 18/100\n",
      "6500/6500 [==============================] - 26s 4ms/step - loss: 0.1122 - accuracy: 0.8410 - val_loss: 0.1072 - val_accuracy: 0.8519\n",
      "Epoch 19/100\n",
      "6500/6500 [==============================] - 27s 4ms/step - loss: 0.1046 - accuracy: 0.8531 - val_loss: 0.1106 - val_accuracy: 0.8265\n",
      "Epoch 20/100\n",
      "6500/6500 [==============================] - 26s 4ms/step - loss: 0.1002 - accuracy: 0.8601 - val_loss: 0.1167 - val_accuracy: 0.8388\n",
      "Epoch 21/100\n",
      "6500/6500 [==============================] - 28s 4ms/step - loss: 0.0958 - accuracy: 0.8669 - val_loss: 0.1304 - val_accuracy: 0.7795\n",
      "Epoch 22/100\n",
      "6500/6500 [==============================] - 26s 4ms/step - loss: 0.0929 - accuracy: 0.8704 - val_loss: 0.0860 - val_accuracy: 0.8850\n",
      "Epoch 23/100\n",
      "6500/6500 [==============================] - 27s 4ms/step - loss: 0.0868 - accuracy: 0.8810 - val_loss: 0.0813 - val_accuracy: 0.8840\n",
      "Epoch 24/100\n",
      "6500/6500 [==============================] - 28s 4ms/step - loss: 0.0851 - accuracy: 0.8826 - val_loss: 0.0789 - val_accuracy: 0.8941\n",
      "Epoch 25/100\n",
      "6500/6500 [==============================] - 27s 4ms/step - loss: 0.0830 - accuracy: 0.8859 - val_loss: 0.0893 - val_accuracy: 0.8608\n",
      "Epoch 26/100\n",
      "6500/6500 [==============================] - 27s 4ms/step - loss: 0.0798 - accuracy: 0.8902 - val_loss: 0.0697 - val_accuracy: 0.9083\n",
      "Epoch 27/100\n",
      "6500/6500 [==============================] - 26s 4ms/step - loss: 0.0768 - accuracy: 0.8956 - val_loss: 0.0691 - val_accuracy: 0.9050\n",
      "Epoch 28/100\n",
      "6500/6500 [==============================] - 27s 4ms/step - loss: 0.0769 - accuracy: 0.8946 - val_loss: 0.0985 - val_accuracy: 0.8518\n",
      "Epoch 29/100\n",
      "6500/6500 [==============================] - 27s 4ms/step - loss: 0.0731 - accuracy: 0.9007 - val_loss: 0.0757 - val_accuracy: 0.8853\n",
      "Epoch 30/100\n",
      "6500/6500 [==============================] - 26s 4ms/step - loss: 0.0735 - accuracy: 0.8999 - val_loss: 0.1297 - val_accuracy: 0.8211\n",
      "Epoch 31/100\n",
      "6500/6500 [==============================] - 27s 4ms/step - loss: 0.0727 - accuracy: 0.9007 - val_loss: 0.0810 - val_accuracy: 0.8512\n",
      "Epoch 32/100\n",
      "6500/6500 [==============================] - 27s 4ms/step - loss: 0.0720 - accuracy: 0.9021 - val_loss: 0.0681 - val_accuracy: 0.9008\n",
      "Epoch 33/100\n",
      "6500/6500 [==============================] - 26s 4ms/step - loss: 0.0706 - accuracy: 0.9038 - val_loss: 0.0646 - val_accuracy: 0.9071\n",
      "Epoch 34/100\n",
      "6500/6500 [==============================] - 27s 4ms/step - loss: 0.0676 - accuracy: 0.9087 - val_loss: 0.0716 - val_accuracy: 0.8797\n",
      "Epoch 35/100\n",
      "6500/6500 [==============================] - 27s 4ms/step - loss: 0.0660 - accuracy: 0.9103 - val_loss: 0.0547 - val_accuracy: 0.9302\n",
      "Epoch 36/100\n",
      "6500/6500 [==============================] - 26s 4ms/step - loss: 0.0666 - accuracy: 0.9098 - val_loss: 0.0812 - val_accuracy: 0.8808\n",
      "Epoch 37/100\n",
      "6500/6500 [==============================] - 27s 4ms/step - loss: 0.0652 - accuracy: 0.9118 - val_loss: 0.0698 - val_accuracy: 0.9063\n",
      "Epoch 38/100\n",
      "6500/6500 [==============================] - 25s 4ms/step - loss: 0.0630 - accuracy: 0.9159 - val_loss: 0.0818 - val_accuracy: 0.8819\n",
      "Epoch 39/100\n",
      "6500/6500 [==============================] - 25s 4ms/step - loss: 0.0637 - accuracy: 0.9147 - val_loss: 0.0629 - val_accuracy: 0.9178\n",
      "Epoch 40/100\n",
      "6500/6500 [==============================] - 27s 4ms/step - loss: 0.0624 - accuracy: 0.9162 - val_loss: 0.1202 - val_accuracy: 0.8012\n",
      "Epoch 41/100\n",
      "6500/6500 [==============================] - 27s 4ms/step - loss: 0.0602 - accuracy: 0.9193 - val_loss: 0.0459 - val_accuracy: 0.9453\n",
      "Epoch 42/100\n",
      "6500/6500 [==============================] - 26s 4ms/step - loss: 0.0625 - accuracy: 0.9164 - val_loss: 0.0457 - val_accuracy: 0.9449\n",
      "Epoch 43/100\n",
      "6500/6500 [==============================] - 27s 4ms/step - loss: 0.0606 - accuracy: 0.9184 - val_loss: 0.0444 - val_accuracy: 0.9446\n",
      "Epoch 44/100\n",
      "6500/6500 [==============================] - 27s 4ms/step - loss: 0.0608 - accuracy: 0.9193 - val_loss: 0.0583 - val_accuracy: 0.9231\n",
      "Epoch 45/100\n",
      "6500/6500 [==============================] - 26s 4ms/step - loss: 0.0595 - accuracy: 0.9205 - val_loss: 0.0508 - val_accuracy: 0.9340\n",
      "Epoch 46/100\n",
      "6500/6500 [==============================] - 27s 4ms/step - loss: 0.0565 - accuracy: 0.9245 - val_loss: 0.0607 - val_accuracy: 0.9130\n",
      "Epoch 47/100\n",
      "6500/6500 [==============================] - 27s 4ms/step - loss: 0.0559 - accuracy: 0.9256 - val_loss: 0.0446 - val_accuracy: 0.9408\n",
      "Epoch 48/100\n",
      "6500/6500 [==============================] - 25s 4ms/step - loss: 0.0572 - accuracy: 0.9239 - val_loss: 0.1391 - val_accuracy: 0.7692\n",
      "Epoch 49/100\n",
      "6500/6500 [==============================] - 27s 4ms/step - loss: 0.0552 - accuracy: 0.9265 - val_loss: 0.0522 - val_accuracy: 0.9367\n",
      "Epoch 50/100\n",
      "6500/6500 [==============================] - 27s 4ms/step - loss: 0.0561 - accuracy: 0.9256 - val_loss: 0.1740 - val_accuracy: 0.7919\n",
      "Epoch 51/100\n",
      "6500/6500 [==============================] - 26s 4ms/step - loss: 0.0557 - accuracy: 0.9262 - val_loss: 0.0489 - val_accuracy: 0.9321\n",
      "Epoch 52/100\n",
      "6500/6500 [==============================] - 27s 4ms/step - loss: 0.0552 - accuracy: 0.9269 - val_loss: 0.0664 - val_accuracy: 0.8951\n",
      "Epoch 53/100\n",
      "6500/6500 [==============================] - 27s 4ms/step - loss: 0.0543 - accuracy: 0.9284 - val_loss: 0.0580 - val_accuracy: 0.9250\n",
      "Epoch 54/100\n",
      "6500/6500 [==============================] - 26s 4ms/step - loss: 0.0537 - accuracy: 0.9293 - val_loss: 0.0401 - val_accuracy: 0.9480\n",
      "Epoch 55/100\n",
      "6500/6500 [==============================] - 27s 4ms/step - loss: 0.0523 - accuracy: 0.9304 - val_loss: 0.0548 - val_accuracy: 0.9181\n",
      "Epoch 56/100\n",
      "6500/6500 [==============================] - 27s 4ms/step - loss: 0.0529 - accuracy: 0.9304 - val_loss: 0.0871 - val_accuracy: 0.8680\n"
     ]
    },
    {
     "name": "stdout",
     "output_type": "stream",
     "text": [
      "Epoch 57/100\n",
      "6500/6500 [==============================] - 26s 4ms/step - loss: 0.0518 - accuracy: 0.9319 - val_loss: 0.0357 - val_accuracy: 0.9571\n",
      "Epoch 58/100\n",
      "6500/6500 [==============================] - 26s 4ms/step - loss: 0.0510 - accuracy: 0.9330 - val_loss: 0.0542 - val_accuracy: 0.9262\n",
      "Epoch 59/100\n",
      "6500/6500 [==============================] - 27s 4ms/step - loss: 0.0508 - accuracy: 0.9333 - val_loss: 0.0558 - val_accuracy: 0.9269\n",
      "Epoch 60/100\n",
      "6500/6500 [==============================] - 26s 4ms/step - loss: 0.0490 - accuracy: 0.9362 - val_loss: 0.0362 - val_accuracy: 0.9537\n",
      "Epoch 61/100\n",
      "6500/6500 [==============================] - 27s 4ms/step - loss: 0.0494 - accuracy: 0.9348 - val_loss: 0.0495 - val_accuracy: 0.9131\n",
      "Epoch 62/100\n",
      "6500/6500 [==============================] - 27s 4ms/step - loss: 0.0476 - accuracy: 0.9380 - val_loss: 0.0992 - val_accuracy: 0.8729\n",
      "Epoch 63/100\n",
      "6500/6500 [==============================] - 26s 4ms/step - loss: 0.0481 - accuracy: 0.9367 - val_loss: 0.0387 - val_accuracy: 0.9453\n",
      "Epoch 64/100\n",
      "6500/6500 [==============================] - 27s 4ms/step - loss: 0.0480 - accuracy: 0.9374 - val_loss: 0.0470 - val_accuracy: 0.9383\n",
      "Epoch 65/100\n",
      "6500/6500 [==============================] - 27s 4ms/step - loss: 0.0483 - accuracy: 0.9370 - val_loss: 0.0588 - val_accuracy: 0.9136\n",
      "Epoch 66/100\n",
      "6500/6500 [==============================] - 25s 4ms/step - loss: 0.0453 - accuracy: 0.9408 - val_loss: 0.0459 - val_accuracy: 0.9331\n",
      "Epoch 67/100\n",
      "6500/6500 [==============================] - 27s 4ms/step - loss: 0.0470 - accuracy: 0.9387 - val_loss: 0.0562 - val_accuracy: 0.9018\n",
      "Epoch 68/100\n",
      "6500/6500 [==============================] - 27s 4ms/step - loss: 0.0460 - accuracy: 0.9399 - val_loss: 0.0313 - val_accuracy: 0.9597\n",
      "Epoch 69/100\n",
      "6500/6500 [==============================] - 25s 4ms/step - loss: 0.0460 - accuracy: 0.9402 - val_loss: 0.0368 - val_accuracy: 0.9473\n",
      "Epoch 70/100\n",
      "6500/6500 [==============================] - 25s 4ms/step - loss: 0.0451 - accuracy: 0.9412 - val_loss: 0.0802 - val_accuracy: 0.8975\n",
      "Epoch 71/100\n",
      "6500/6500 [==============================] - 26s 4ms/step - loss: 0.0453 - accuracy: 0.9413 - val_loss: 0.0477 - val_accuracy: 0.9338\n",
      "Epoch 72/100\n",
      "6500/6500 [==============================] - 27s 4ms/step - loss: 0.0450 - accuracy: 0.9416 - val_loss: 0.0333 - val_accuracy: 0.9607\n",
      "Epoch 73/100\n",
      "6500/6500 [==============================] - 27s 4ms/step - loss: 0.0452 - accuracy: 0.9407 - val_loss: 0.0380 - val_accuracy: 0.9553\n",
      "Epoch 74/100\n",
      "6500/6500 [==============================] - 26s 4ms/step - loss: 0.0473 - accuracy: 0.9386 - val_loss: 0.0490 - val_accuracy: 0.9266\n",
      "Epoch 75/100\n",
      "6500/6500 [==============================] - 27s 4ms/step - loss: 0.0447 - accuracy: 0.9418 - val_loss: 0.0521 - val_accuracy: 0.9221\n",
      "Epoch 76/100\n",
      "6500/6500 [==============================] - 27s 4ms/step - loss: 0.0451 - accuracy: 0.9412 - val_loss: 0.0459 - val_accuracy: 0.9342\n",
      "Epoch 77/100\n",
      "6500/6500 [==============================] - 25s 4ms/step - loss: 0.0430 - accuracy: 0.9442 - val_loss: 0.0411 - val_accuracy: 0.9403\n",
      "Epoch 78/100\n",
      "6500/6500 [==============================] - 27s 4ms/step - loss: 0.0431 - accuracy: 0.9442 - val_loss: 0.0588 - val_accuracy: 0.8934\n",
      "Epoch 79/100\n",
      "6500/6500 [==============================] - 27s 4ms/step - loss: 0.0427 - accuracy: 0.9447 - val_loss: 0.0478 - val_accuracy: 0.9332\n",
      "Epoch 80/100\n",
      "6500/6500 [==============================] - 26s 4ms/step - loss: 0.0434 - accuracy: 0.9443 - val_loss: 0.0366 - val_accuracy: 0.9477\n",
      "Epoch 81/100\n",
      "6500/6500 [==============================] - 27s 4ms/step - loss: 0.0439 - accuracy: 0.9430 - val_loss: 0.0357 - val_accuracy: 0.9523\n",
      "Epoch 82/100\n",
      "6500/6500 [==============================] - 27s 4ms/step - loss: 0.0426 - accuracy: 0.9453 - val_loss: 0.0545 - val_accuracy: 0.9255\n",
      "Epoch 83/100\n",
      "6500/6500 [==============================] - 27s 4ms/step - loss: 0.0441 - accuracy: 0.9429 - val_loss: 0.0551 - val_accuracy: 0.9263\n",
      "Epoch 84/100\n",
      "6500/6500 [==============================] - 26s 4ms/step - loss: 0.0436 - accuracy: 0.9431 - val_loss: 0.0436 - val_accuracy: 0.9346\n",
      "Epoch 85/100\n",
      "6500/6500 [==============================] - 27s 4ms/step - loss: 0.0446 - accuracy: 0.9423 - val_loss: 0.0459 - val_accuracy: 0.9306\n",
      "Epoch 86/100\n",
      "6500/6500 [==============================] - 27s 4ms/step - loss: 0.0444 - accuracy: 0.9424 - val_loss: 0.0353 - val_accuracy: 0.9567\n",
      "Epoch 87/100\n",
      "6500/6500 [==============================] - 26s 4ms/step - loss: 0.0420 - accuracy: 0.9456 - val_loss: 0.0338 - val_accuracy: 0.9498\n",
      "Epoch 88/100\n",
      "6500/6500 [==============================] - 25s 4ms/step - loss: 0.0431 - accuracy: 0.9443 - val_loss: 0.0363 - val_accuracy: 0.9553\n",
      "Epoch 89/100\n",
      "6500/6500 [==============================] - 26s 4ms/step - loss: 0.0421 - accuracy: 0.9447 - val_loss: 0.0485 - val_accuracy: 0.9324\n",
      "Epoch 90/100\n",
      "6500/6500 [==============================] - 28s 4ms/step - loss: 0.0425 - accuracy: 0.9444 - val_loss: 0.0291 - val_accuracy: 0.9622\n",
      "Epoch 91/100\n",
      "6500/6500 [==============================] - 27s 4ms/step - loss: 0.0416 - accuracy: 0.9458 - val_loss: 0.0305 - val_accuracy: 0.9533\n",
      "Epoch 92/100\n",
      "6500/6500 [==============================] - 25s 4ms/step - loss: 0.0414 - accuracy: 0.9464 - val_loss: 0.0984 - val_accuracy: 0.8808\n",
      "Epoch 93/100\n",
      "6500/6500 [==============================] - 27s 4ms/step - loss: 0.0418 - accuracy: 0.9460 - val_loss: 0.0647 - val_accuracy: 0.9130\n",
      "Epoch 94/100\n",
      "6500/6500 [==============================] - 27s 4ms/step - loss: 0.0420 - accuracy: 0.9461 - val_loss: 0.0492 - val_accuracy: 0.9288\n",
      "Epoch 95/100\n",
      "6500/6500 [==============================] - 27s 4ms/step - loss: 0.0438 - accuracy: 0.9434 - val_loss: 0.0310 - val_accuracy: 0.9564\n",
      "Epoch 96/100\n",
      "6500/6500 [==============================] - 27s 4ms/step - loss: 0.0420 - accuracy: 0.9459 - val_loss: 0.0385 - val_accuracy: 0.9461\n",
      "Epoch 97/100\n",
      "6500/6500 [==============================] - 27s 4ms/step - loss: 0.0437 - accuracy: 0.9434 - val_loss: 0.0424 - val_accuracy: 0.9362\n",
      "Epoch 98/100\n",
      "6500/6500 [==============================] - 27s 4ms/step - loss: 0.0424 - accuracy: 0.9450 - val_loss: 0.0286 - val_accuracy: 0.9619\n",
      "Epoch 99/100\n",
      "6500/6500 [==============================] - 28s 4ms/step - loss: 0.0426 - accuracy: 0.9447 - val_loss: 0.1159 - val_accuracy: 0.8626\n",
      "Epoch 100/100\n",
      "6500/6500 [==============================] - 26s 4ms/step - loss: 0.0429 - accuracy: 0.9446 - val_loss: 0.0322 - val_accuracy: 0.9605\n"
     ]
    }
   ],
   "source": [
    "model = k.Sequential()\n",
    "model.add(k.layers.Dense(64, input_shape=(9,), activation=\"relu\"))\n",
    "model.add(k.layers.Dense(32, activation=\"relu\"))\n",
    "model.add(k.layers.Dense(16, activation=\"relu\"))\n",
    "model.add(k.layers.Dense(2, activation=\"sigmoid\"))\n",
    "model.compile(loss=\"mse\", optimizer=\"adam\", metrics=\"accuracy\")\n",
    "fit_results = model.fit(x=train_x, y=train_y, epochs=100, validation_split=0.20)"
   ]
  },
  {
   "cell_type": "code",
   "execution_count": 31,
   "id": "e4a5e6d4",
   "metadata": {
    "scrolled": false
   },
   "outputs": [
    {
     "data": {
      "image/png": "[encoded data removed]",
      "text/plain": [
       "<Figure size 432x288 with 1 Axes>"
      ]
     },
     "metadata": {
      "needs_background": "light"
     },
     "output_type": "display_data"
    },
    {
     "data": {
      "image/png": "[encoded data removed]",
      "text/plain": [
       "<Figure size 432x288 with 1 Axes>"
      ]
     },
     "metadata": {
      "needs_background": "light"
     },
     "output_type": "display_data"
    }
   ],
   "source": [
    "plt.title(\"loss\")\n",
    "plt.plot(fit_results.history[\"loss\"], label=\"Train\")\n",
    "plt.plot(fit_results.history[\"val_loss\"], label=\"Validation\")\n",
    "plt.legend()\n",
    "plt.show()\n",
    "\n",
    "plt.title(\"accuracies\")\n",
    "plt.plot(fit_results.history[\"accuracy\"], label=\"Train\")\n",
    "plt.plot(fit_results.history[\"val_accuracy\"], label=\"Validation\")\n",
    "plt.legend()\n",
    "plt.show()"
   ]
  },
  {
   "cell_type": "code",
   "execution_count": 59,
   "id": "e29c9bc3",
   "metadata": {},
   "outputs": [
    {
     "name": "stdout",
     "output_type": "stream",
     "text": [
      "188/188 [==============================] - 1s 3ms/step - loss: 0.0301 - accuracy: 0.9922\n",
      "[0.030114613473415375, 0.9921666383743286]\n"
     ]
    }
   ],
   "source": [
    "output_data_test = []\n",
    "for i in range(0,6000):\n",
    "    output_data_test.append([1, 0])\n",
    "results = model.evaluate(rows_positive[130000:136000],output_data_test)\n",
    "print(results)"
   ]
  },
  {
   "cell_type": "code",
   "execution_count": 41,
   "id": "5ff5ff4a",
   "metadata": {},
   "outputs": [
    {
     "name": "stdout",
     "output_type": "stream",
     "text": [
      "Saved model to disk\n"
     ]
    }
   ],
   "source": [
    "# serialize model to JSON\n",
    "model_json = model.to_json()\n",
    "with open(\"model.json\", \"w\") as json_file:\n",
    "    json_file.write(model_json)\n",
    "# serialize weights to HDF5\n",
    "model.save_weights(\"model.h5\")\n",
    "print(\"Saved model to disk\")"
   ]
  }
 ],
 "metadata": {
  "kernelspec": {
   "display_name": "Python 3 (ipykernel)",
   "language": "python",
   "name": "python3"
  },
  "language_info": {
   "codemirror_mode": {
    "name": "ipython",
    "version": 3
   },
   "file_extension": ".py",
   "mimetype": "text/x-python",
   "name": "python",
   "nbconvert_exporter": "python",
   "pygments_lexer": "ipython3",
   "version": "3.9.12"
  }
 },
 "nbformat": 4,
 "nbformat_minor": 5
}
